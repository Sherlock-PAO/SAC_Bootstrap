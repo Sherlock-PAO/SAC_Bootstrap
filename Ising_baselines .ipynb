{
 "cells": [
  {
   "cell_type": "code",
   "execution_count": 12,
   "id": "b992f7cf",
   "metadata": {},
   "outputs": [],
   "source": [
    "import gym\n",
    "from scipy.special import hyp2f1\n",
    "from numpy.random import rand\n",
    "from numpy.linalg import norm\n",
    "from numpy import array\n",
    "from numpy import inf\n",
    "from numpy import conj,linspace,meshgrid,logical_and\n",
    "from numpy import abs as np_abs\n",
    "import matplotlib.pyplot as plt\n",
    "import torch as th\n",
    "import os\n",
    "os.environ[\"KMP_DUPLICATE_LIB_OK\"]=\"TRUE\""
   ]
  },
  {
   "cell_type": "code",
   "execution_count": 13,
   "id": "da10bb34",
   "metadata": {},
   "outputs": [
    {
     "data": {
      "text/plain": [
       "<torch.autograd.anomaly_mode.set_detect_anomaly at 0x16eb8e05898>"
      ]
     },
     "execution_count": 13,
     "metadata": {},
     "output_type": "execute_result"
    }
   ],
   "source": [
    "th.autograd.set_detect_anomaly(True)"
   ]
  },
  {
   "cell_type": "markdown",
   "id": "e8bf353a",
   "metadata": {},
   "source": [
    "## Sampling ##\n",
    "As suggested by <a href=\"https://arxiv.org/pdf/1606.02771.pdf\">The Effective Bootstrap</a> Sec.3.1"
   ]
  },
  {
   "cell_type": "code",
   "execution_count": 14,
   "id": "fcdd7a39",
   "metadata": {},
   "outputs": [],
   "source": [
    "def rho(z):\n",
    "    return z/(1+(1-z)**(1/2))**2\n",
    "\n",
    "def llambda(z):\n",
    "    return abs(rho(z))+abs(rho(1-z))"
   ]
  },
  {
   "cell_type": "code",
   "execution_count": 15,
   "id": "e950134e",
   "metadata": {},
   "outputs": [],
   "source": [
    "Nx = 25\n",
    "Ny = 25\n",
    "x = linspace(-1,2,Nx)\n",
    "y = linspace(-2,2,Ny)\n",
    "xv, yv = meshgrid(x,y)\n",
    "zv = xv+1j*yv"
   ]
  },
  {
   "cell_type": "code",
   "execution_count": 16,
   "id": "162867fd",
   "metadata": {},
   "outputs": [],
   "source": [
    "lambda_c = 0.6\n",
    "z = zv.flatten()\n",
    "lz=llambda(z)\n",
    "z = z[logical_and(logical_and(lz<lambda_c,z.real>=1/2),z.imag>=0)]\n",
    "Nz = z.size\n",
    "pts=[[p,conj(p)] for p in z]"
   ]
  },
  {
   "cell_type": "code",
   "execution_count": 17,
   "id": "93a37d65",
   "metadata": {
    "scrolled": false
   },
   "outputs": [
    {
     "data": {
      "text/plain": [
       "Text(0, 0.5, 'Im(z)')"
      ]
     },
     "execution_count": 17,
     "metadata": {},
     "output_type": "execute_result"
    },
    {
     "data": {
      "image/png": "[encoded data removed]",
      "text/plain": [
       "<Figure size 576x576 with 1 Axes>"
      ]
     },
     "metadata": {
      "needs_background": "light"
     },
     "output_type": "display_data"
    }
   ],
   "source": [
    "plt.figure(figsize=[8,8])\n",
    "plt.contour(xv, yv, llambda(zv),[lambda_c])\n",
    "plt.contourf(xv, yv, llambda(zv),[0,lambda_c],alpha=.2,colors='blue')\n",
    "plt.scatter(z.real,z.imag,s=1)\n",
    "plt.xlabel('Re(z)')\n",
    "plt.ylabel('Im(z)')"
   ]
  },
  {
   "cell_type": "markdown",
   "id": "5036395c",
   "metadata": {},
   "source": [
    "## Model ##"
   ]
  },
  {
   "cell_type": "code",
   "execution_count": 18,
   "id": "f88c753d",
   "metadata": {},
   "outputs": [],
   "source": [
    "spins = array([0,0,2,4,6])\n",
    "ex_h = [[3/80,3/80] for i in range(4)]\n",
    "accuracy_threshold = 10**-3\n",
    "reward_scale=0.005"
   ]
  },
  {
   "cell_type": "code",
   "execution_count": 19,
   "id": "bf5a3b78",
   "metadata": {},
   "outputs": [],
   "source": [
    "# pts = rand(29,2)"
   ]
  },
  {
   "cell_type": "code",
   "execution_count": 20,
   "id": "635096f7",
   "metadata": {},
   "outputs": [],
   "source": [
    "def g(h,hb,z,zb):\n",
    "    h12=ex_h[0][0]-ex_h[1][0]\n",
    "    h34=ex_h[2][0]-ex_h[3][0]\n",
    "    hb12=ex_h[0][1]-ex_h[1][1]\n",
    "    hb34=ex_h[2][1]-ex_h[3][1]\n",
    "    output = (1/2 if h==hb else 1)*(z**h*zb**hb*hyp2f1(h-h12,h+h34,2*h,z)*hyp2f1(hb-hb12,hb+hb34,2*hb,zb)+ \\\n",
    "                                    zb**h*z**hb*hyp2f1(h-h12,h+h34,2*h,zb)*hyp2f1(hb-hb12,hb+hb34,2*hb,z))\n",
    "#     print('g=',output)\n",
    "    return output\n",
    "\n",
    "def p(h,hb,c,z,zb):\n",
    "    output = c*(((z-1)*(zb-1))**(1/8)*g(h,hb,z,zb)-z**(1/8)*zb**(1/8)*g(h,hb,1-z,1-zb))\n",
    "#     print('p=',output)\n",
    "    return output"
   ]
  },
  {
   "cell_type": "code",
   "execution_count": 22,
   "id": "a4492c45",
   "metadata": {},
   "outputs": [],
   "source": [
    "def e(spec,pts):\n",
    "    output= [(sum([p(n[0],n[1],n[2],z[0],z[1]) for n in spec if n[0]>=n[1]]) + \\\n",
    "              ((z[0]-1)*(z[1]-1))**(1/8)-z[0]**(1/8)*z[1]**(1/8)) for z in pts]\n",
    "#     print('e=',output)\n",
    "    return output"
   ]
  },
  {
   "cell_type": "code",
   "execution_count": 24,
   "id": "87f2cefa",
   "metadata": {},
   "outputs": [],
   "source": [
    "def e_abs(spec,pts):\n",
    "    output= sum([(sum(np_abs([p(n[0],n[1],n[2],z[0],z[1]) for n in spec if n[0]>=n[1]])) + \\\n",
    "                  ((z[0]-1)*(z[1]-1))**(1/8)-z[0]**(1/8)*z[1]**(1/8)) for z in pts])\n",
    "#     print('e_abs=',output)\n",
    "    return output"
   ]
  },
  {
   "cell_type": "code",
   "execution_count": 25,
   "id": "aa9d8e20",
   "metadata": {},
   "outputs": [],
   "source": [
    "def A(spec,pts):\n",
    "    output = norm(e(spec,pts))/e_abs(spec,pts)\n",
    "#     print('A=',output)\n",
    "    return output"
   ]
  },
  {
   "cell_type": "code",
   "execution_count": 26,
   "id": "57f8758a",
   "metadata": {},
   "outputs": [],
   "source": [
    "test_obs = array([4,2.44141*10**-4,1,0.25,2,0.015625,4,2.19727*10**-4,6,1.36239*10**-5])\n",
    "test_spec = [[(test_obs[2*i]+spins[i])/2, (test_obs[2*i]-spins[i])/2, test_obs[2*i+1]]for i in range(5)]"
   ]
  },
  {
   "cell_type": "code",
   "execution_count": 27,
   "id": "9909e628",
   "metadata": {},
   "outputs": [
    {
     "data": {
      "text/plain": [
       "2.9204964057933857e+29"
      ]
     },
     "execution_count": 27,
     "metadata": {},
     "output_type": "execute_result"
    }
   ],
   "source": [
    "norm(e(test_spec,pts))"
   ]
  },
  {
   "cell_type": "code",
   "execution_count": 28,
   "id": "860dccbf",
   "metadata": {},
   "outputs": [],
   "source": [
    "class IsingEnv(gym.Env):\n",
    "    def __init__(self):\n",
    "#         self.state=rand(10)\n",
    "        self.state=test_obs\n",
    "        self.action_space = gym.spaces.Box(array([-1 for i in range(10)],dtype='float32'), array([1 for i in range(10)],dtype='float32'))\n",
    "        self.observation_space = gym.spaces.Box(array([-10 for i in range(10)]),array([10 for i in range(10)]))\n",
    "        self.n = 5\n",
    "        self.best_reward=-inf\n",
    "    def reset(self):\n",
    "        self.state=test_obs\n",
    "#         self.state=rand(10)\n",
    "        return self._next_observation()\n",
    "    def _next_observation(self):\n",
    "        return self.state\n",
    "    def step(self, action):\n",
    "        self._take_action(action)\n",
    "#         print(self.state)\n",
    "        done = False\n",
    "        obs = self._next_observation()\n",
    "        spec = [[(obs[2*i]+spins[i])/2, (obs[2*i]-spins[i])/2, obs[2*i+1]]for i in range(self.n)]\n",
    "        reward = -norm(e(spec, pts))*reward_scale\n",
    "#         print(reward)\n",
    "        if reward>self.best_reward :\n",
    "            self.best_reward = reward\n",
    "            print('best_reward=',self.best_reward)\n",
    "            done=True\n",
    "        info = {}\n",
    "        return obs, reward, done, info\n",
    "    def _take_action(self,action):\n",
    "        self.state=self.state+action\n",
    "\n",
    "class IsingEnv2(gym.Env):\n",
    "    def __init__(self):\n",
    "        self.state=rand(10)\n",
    "        self.action_space = gym.spaces.Box(array([-10 for i in range(10)],dtype='float32'), array([10 for i in range(10)],dtype='float32'))\n",
    "        self.observation_space = gym.spaces.Box(array([-10 for i in range(10)]),array([10 for i in range(10)]))\n",
    "        self.n = 5\n",
    "        self.best_reward=-inf\n",
    "    def reset(self):\n",
    "        self.state=rand(10)\n",
    "        return self._next_observation()\n",
    "    def _next_observation(self):\n",
    "        return self.state\n",
    "    def step(self, action):\n",
    "        self._take_action(action)\n",
    "        done = False\n",
    "        obs = self._next_observation()\n",
    "        spec = [[(obs[2*i]+spins[i])/2, (obs[2*i]-spins[i])/2, obs[2*i+1]]for i in range(self.n)]\n",
    "        reward = -norm(e(spec, pts))\n",
    "#         print(reward)\n",
    "        if reward>self.best_reward :\n",
    "            self.best_reward = reward\n",
    "#             print('best_reward=',self.best_reward)\n",
    "            done=True\n",
    "        info = {}\n",
    "        return obs, reward, done, info\n",
    "    def _take_action(self,action):\n",
    "        self.state=action\n",
    "    def _get_accuracy(self):\n",
    "        obs = self._next_observation()\n",
    "        spec = [[(obs[2*i]+spins[i])/2, (obs[2*i]-spins[i])/2, obs[2*i+1]]for i in range(self.n)]\n",
    "        return A(spec,pts)"
   ]
  },
  {
   "cell_type": "markdown",
   "id": "bbd4469a",
   "metadata": {},
   "source": [
    "## Learning ##"
   ]
  },
  {
   "cell_type": "code",
   "execution_count": 29,
   "id": "d1faf0b5",
   "metadata": {},
   "outputs": [],
   "source": [
    "from stable_baselines3 import SAC\n",
    "from stable_baselines3.common.callbacks import EventCallback,BaseCallback"
   ]
  },
  {
   "cell_type": "code",
   "execution_count": 30,
   "id": "c2ee1ac3",
   "metadata": {},
   "outputs": [],
   "source": [
    "class StopTrainingOnAccuracyThreshold(BaseCallback):\n",
    "    def __init__(self, accuracy_threshold: float, verbose: int = 0):\n",
    "        super(StopTrainingOnAccuracyThreshold, self).__init__(verbose=verbose)\n",
    "        self.accuracy_threshold = accuracy_threshold\n",
    "\n",
    "    def _on_step(self) -> bool:\n",
    "        assert self.parent is not None, \"``StopTrainingOnAccuracyThreshold`` callback must be used \" \"with an ``AccuracyCallback``\"\n",
    "        continue_training = bool(self.parent.accuracy > self.accuracy_threshold)\n",
    "        if self.verbose > 0 and not continue_training:\n",
    "            print(\n",
    "                f\"Stopping training because the accuracy {self.parent.accuracy:f} \"\n",
    "                f\" is below the threshold {self.accuracy_threshold}\"\n",
    "            )\n",
    "        return continue_training"
   ]
  },
  {
   "cell_type": "code",
   "execution_count": 31,
   "id": "9a73afe8",
   "metadata": {},
   "outputs": [],
   "source": [
    "# ising= IsingEnv2()\n",
    "# model = SAC(\"MlpPolicy\", ising, learning_rate=5e-4, buffer_size=100000, learning_starts=1000, batch_size=64, \\\n",
    "#             tau=0.001, gamma= 0.99, verbose=1, device='cuda')\n",
    "# model.get_env().env_method('_get_accuracy')"
   ]
  },
  {
   "cell_type": "code",
   "execution_count": 35,
   "id": "05ed83d0",
   "metadata": {},
   "outputs": [
    {
     "name": "stdout",
     "output_type": "stream",
     "text": [
      "Using cpu device\n",
      "Wrapping the env with a `Monitor` wrapper\n",
      "Wrapping the env in a DummyVecEnv.\n",
      "best_reward= -25015683341888.08\n",
      "best_reward= -1112712.0122614712\n",
      "best_reward= -515617.9336581758\n",
      "best_reward= -5698.103977992241\n",
      "----------------------------------\n",
      "| rollout/           |           |\n",
      "|    ep_len_mean     | 5.5       |\n",
      "|    ep_rew_mean     | -2.39e+18 |\n",
      "| time/              |           |\n",
      "|    episodes        | 4         |\n",
      "|    fps             | 105       |\n",
      "|    time_elapsed    | 0         |\n",
      "|    total_timesteps | 22        |\n",
      "----------------------------------\n",
      "best_reward= -5040.426035704121\n",
      "best_reward= -2791.321046330525\n",
      "best_reward= -454.5834845697232\n",
      "best_reward= -407.37137132120125\n",
      "----------------------------------\n",
      "| rollout/           |           |\n",
      "|    ep_len_mean     | 616       |\n",
      "|    ep_rew_mean     | -6.82e+20 |\n",
      "| time/              |           |\n",
      "|    episodes        | 8         |\n",
      "|    fps             | 9         |\n",
      "|    time_elapsed    | 545       |\n",
      "|    total_timesteps | 4925      |\n",
      "| train/             |           |\n",
      "|    actor_loss      | 32.1      |\n",
      "|    critic_loss     | inf       |\n",
      "|    ent_coef        | 0.975     |\n",
      "|    ent_coef_loss   | -0.412    |\n",
      "|    learning_rate   | 5e-06     |\n",
      "|    n_updates       | 4824      |\n",
      "----------------------------------\n"
     ]
    }
   ],
   "source": [
    "ising= IsingEnv2()\n",
    "model = SAC(\"MlpPolicy\", ising, learning_rate=5e-4, buffer_size=100000, learning_starts=1000, batch_size=64, \\\n",
    "            tau=0.001, gamma= 0.99, verbose=1, device='cuda')\n",
    "model.learn(total_timesteps=100000, log_interval=4)\n",
    "model.save(\"Ising_baselines\")"
   ]
  },
  {
   "cell_type": "code",
   "execution_count": null,
   "id": "4e7511bb",
   "metadata": {},
   "outputs": [],
   "source": []
  }
 ],
 "metadata": {
  "kernelspec": {
   "display_name": "baselines",
   "language": "python",
   "name": "baselines"
  },
  "language_info": {
   "codemirror_mode": {
    "name": "ipython",
    "version": 3
   },
   "file_extension": ".py",
   "mimetype": "text/x-python",
   "name": "python",
   "nbconvert_exporter": "python",
   "pygments_lexer": "ipython3",
   "version": "3.6.13"
  }
 },
 "nbformat": 4,
 "nbformat_minor": 5
}
